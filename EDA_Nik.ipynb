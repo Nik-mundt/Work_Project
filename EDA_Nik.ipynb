{
 "cells": [
  {
   "cell_type": "markdown",
   "id": "5feacf9a",
   "metadata": {},
   "source": [
    "EDA by Nik"
   ]
  },
  {
   "cell_type": "code",
   "execution_count": 1,
   "id": "fbb0aa53",
   "metadata": {},
   "outputs": [],
   "source": [
    "import pandas as pd"
   ]
  },
  {
   "cell_type": "code",
   "execution_count": 17,
   "id": "63d9e2df",
   "metadata": {},
   "outputs": [
    {
     "name": "stderr",
     "output_type": "stream",
     "text": [
      "C:\\Users\\mundt\\AppData\\Local\\Temp\\ipykernel_42848\\4182419387.py:16: DtypeWarning: Columns (59,62,85) have mixed types. Specify dtype option on import or set low_memory=False.\n",
      "  datasets[key] = pd.read_csv(path)\n",
      "C:\\Users\\mundt\\AppData\\Local\\Temp\\ipykernel_42848\\4182419387.py:16: DtypeWarning: Columns (1,18,19,46) have mixed types. Specify dtype option on import or set low_memory=False.\n",
      "  datasets[key] = pd.read_csv(path)\n",
      "C:\\Users\\mundt\\AppData\\Local\\Temp\\ipykernel_42848\\4182419387.py:16: DtypeWarning: Columns (0,4) have mixed types. Specify dtype option on import or set low_memory=False.\n",
      "  datasets[key] = pd.read_csv(path)\n"
     ]
    },
    {
     "data": {
      "text/plain": [
       "{'invoice': {'num_rows': 23281,\n",
       "  'num_columns': 73,\n",
       "  'sample_columns': ['INVOICE_NUMBER',\n",
       "   'DOCUMENT_ID',\n",
       "   'DATE_NEEDED',\n",
       "   'PRIORITY',\n",
       "   'INVOICE_HIDDEN']},\n",
       " 'invoice_item': {'num_rows': 78195,\n",
       "  'num_columns': 52,\n",
       "  'sample_columns': ['INVOICE_NUMBER',\n",
       "   'DOCUMENT_ID',\n",
       "   'DOCUMENT_ITEM_ID',\n",
       "   'LOCAL_TAX',\n",
       "   'FEDERAL_TAX']},\n",
       " 'po': {'num_rows': 12027,\n",
       "  'num_columns': 127,\n",
       "  'sample_columns': ['PO_NUMBER',\n",
       "   'DOCUMENT_ID',\n",
       "   'CURRENT_REVISION_ID',\n",
       "   'MATERIALS_SERVICES',\n",
       "   'FULLY_DELIVERED']},\n",
       " 'po_item': {'num_rows': 471082,\n",
       "  'num_columns': 55,\n",
       "  'sample_columns': ['PO_ID',\n",
       "   'PO_NUMBER',\n",
       "   'MAT_SERV_TYPE',\n",
       "   'DOCUMENT_ITEM_ID',\n",
       "   'ITEM_NUMBER']},\n",
       " 'requisition': {'num_rows': 6108,\n",
       "  'num_columns': 68,\n",
       "  'sample_columns': ['REQ_NUMBER',\n",
       "   'DOCUMENT_ID',\n",
       "   'DATE_NEEDED',\n",
       "   'MULTI_SHIP_REQ',\n",
       "   'PRIORITY']},\n",
       " 'requisition_analysis': {'num_rows': 2323,\n",
       "  'num_columns': 86,\n",
       "  'sample_columns': ['REQ_NUMBER',\n",
       "   'DOCUMENT_ID',\n",
       "   'DATE_NEEDED',\n",
       "   'MULTI_SHIP_REQ',\n",
       "   'PRIORITY']},\n",
       " 'requisition_items': {'num_rows': 417191,\n",
       "  'num_columns': 48,\n",
       "  'sample_columns': ['REQ_NUMBER',\n",
       "   'DOCUMENT_ID',\n",
       "   'REQ_DOCUMENT_ITEM_ID',\n",
       "   'PRICED_TAG',\n",
       "   'REQ_ITEM_CATEGORY']},\n",
       " 'ship_administration': {'num_rows': 197,\n",
       "  'num_columns': 51,\n",
       "  'sample_columns': ['SHIP_NAME',\n",
       "   'SHIP_ID',\n",
       "   'SHIP_CODE',\n",
       "   'SHIP_NUM',\n",
       "   'WAREHOUSE']}}"
      ]
     },
     "execution_count": 17,
     "metadata": {},
     "output_type": "execute_result"
    }
   ],
   "source": [
    "# Define the file paths\n",
    "file_paths = {\n",
    "    'invoice': 'data/mySQL View rpt_invoice_2023-09-20T15_48_56.csv',\n",
    "    'invoice_item': 'data/mySQL View rpt_invoice_item_2023-09-20T15_51_12.csv',\n",
    "    'po': 'data/mySQL View rpt_po_2023-09-20T15_11_40.csv',\n",
    "    'po_item': 'data/mySQL View rpt_po_item_2023-09-20T15_42_22.csv',\n",
    "    'requisition': 'data/mySQL View rpt_requisition_2023-09-20T15_34_02.csv',\n",
    "    'requisition_analysis': 'data/mySQL View rpt_requisition_analysis_2023-09-20T15_36_42.csv',\n",
    "    'requisition_items': 'data/mySQL View rpt_requisition_items_2023-09-20T15_40_31.csv',\n",
    "    'ship_administration': 'data/mySQL View rpt_ship_administration_2023-09-20T15_32_17.csv'\n",
    "}\n",
    "\n",
    "# Read the datasets into DataFrames\n",
    "datasets = {}\n",
    "for key, path in file_paths.items():\n",
    "    datasets[key] = pd.read_csv(path)\n",
    "\n",
    "# Iterate over all datasets and transform columns that include \"DATE\" to datetime dtype\n",
    "for dataset_name, df in datasets.items():\n",
    "    date_columns = [col for col in df.columns if 'DATE' in col]\n",
    "    for date_column in date_columns:\n",
    "        df[date_column] = pd.to_datetime(df[date_column], errors='coerce')  \n",
    "    \n",
    "# Show basic information about each dataset\n",
    "dataset_info = {}\n",
    "for key, df in datasets.items():\n",
    "    dataset_info[key] = {\n",
    "        'shape': df.shape,\n",
    "        'columns': df.columns.tolist()\n",
    "    }\n",
    "\n",
    "summary_info = {}\n",
    "for key, info in dataset_info.items():\n",
    "    summary_info[key] = {\n",
    "        'num_rows': info['shape'][0],\n",
    "        'num_columns': info['shape'][1],\n",
    "        'sample_columns': info['columns'][:5]  # Show first 5 columns as samples\n",
    "    }\n",
    "\n",
    "summary_info"
   ]
  },
  {
   "cell_type": "code",
   "execution_count": 24,
   "id": "3caeaf65",
   "metadata": {},
   "outputs": [
    {
     "name": "stdout",
     "output_type": "stream",
     "text": [
      "invoice\n"
     ]
    },
    {
     "data": {
      "text/plain": [
       "INVOICE_NUMBER                 object\n",
       "DOCUMENT_ID                     int64\n",
       "DATE_NEEDED            datetime64[ns]\n",
       "PRIORITY                      float64\n",
       "INVOICE_HIDDEN                 object\n",
       "                            ...      \n",
       "VAT_CODE_DESC                 float64\n",
       "BRIEF_DESCRIPTION             float64\n",
       "INVOICE_DESCRIPTION           float64\n",
       "HIDDEN                          int64\n",
       "Processing Time               float64\n",
       "Length: 74, dtype: object"
      ]
     },
     "metadata": {},
     "output_type": "display_data"
    },
    {
     "name": "stdout",
     "output_type": "stream",
     "text": [
      "invoice_item\n"
     ]
    },
    {
     "data": {
      "text/plain": [
       "INVOICE_NUMBER                          object\n",
       "DOCUMENT_ID                              int64\n",
       "DOCUMENT_ITEM_ID                         int64\n",
       "LOCAL_TAX                              float64\n",
       "FEDERAL_TAX                            float64\n",
       "UNIT_COST                              float64\n",
       "TOTAL_COST                             float64\n",
       "MATERIALS_SERVICES                       int64\n",
       "LOCAL_TAX_REFUNDABLE                     int64\n",
       "COMMENTS_ID                            float64\n",
       "FEDERAL_TAXES                           object\n",
       "LOCAL_TAXES                             object\n",
       "ACCOUNT_NAME                            object\n",
       "ACCOUNT_NUMBER                          object\n",
       "ACCOUNT_ID                               int64\n",
       "PROJECT_DESC                            object\n",
       "PROJECT_ID                             float64\n",
       "PROJECT_NUMBER                          object\n",
       "ITEM_TYPE_LOOKUP_ID                    float64\n",
       "ITEM_TYPE_ABBREVIATION                  object\n",
       "QUANTITY                               float64\n",
       "UNIT_ID                                float64\n",
       "UNIT_NAME                               object\n",
       "UNIT_ABBREVIATION                       object\n",
       "MACHINERY_PART_ID                      float64\n",
       "PART_NAME                               object\n",
       "EQUIPMENT_ID                           float64\n",
       "EQUIPMENT_NAME                          object\n",
       "SHIP_ID                                  int64\n",
       "SHIP_NAME                               object\n",
       "SHIP_CODE                               object\n",
       "PO_DOCUMENT_ID                         float64\n",
       "EXCHANGE_RATE                          float64\n",
       "PO_NUMBER                              float64\n",
       "PO_DOCUMENT_ITEM_ID                    float64\n",
       "PO_PREVIOUS_DOCUMENT_ITEM_ID           float64\n",
       "PO_TOP_REV_DOCUMENT_ITEM_ID            float64\n",
       "ADD_TO_HIERARCHY                       float64\n",
       "HCSCODE                                float64\n",
       "HIDDEN                                  object\n",
       "DOC_HIDDEN                               int64\n",
       "VAT_CODE_INDXTRM                       float64\n",
       "VAT_CODE_DESC                          float64\n",
       "PTNOREF_ID                             float64\n",
       "PART_NUMBER                            float64\n",
       "CURRENCY_NAME                           object\n",
       "CURRENCY_ABBR                           object\n",
       "CURRENCY_ID                              int64\n",
       "CREATED_DATE                    datetime64[ns]\n",
       "INVOICE_DATE                    datetime64[ns]\n",
       "PAYMENT_DATE                    datetime64[ns]\n",
       "PAYMENT_DUE_DATE                datetime64[ns]\n",
       "dtype: object"
      ]
     },
     "metadata": {},
     "output_type": "display_data"
    },
    {
     "name": "stdout",
     "output_type": "stream",
     "text": [
      "po\n"
     ]
    },
    {
     "data": {
      "text/plain": [
       "PO_NUMBER                int64\n",
       "DOCUMENT_ID              int64\n",
       "CURRENT_REVISION_ID      int64\n",
       "MATERIALS_SERVICES       int64\n",
       "FULLY_DELIVERED         object\n",
       "                        ...   \n",
       "TOTAL_INVOICE_COST     float64\n",
       "EXCHANGE_RATE          float64\n",
       "CURRENCY_ID            float64\n",
       "DOC_HIDDEN               int64\n",
       "SHIP_HIDDEN              int64\n",
       "Length: 127, dtype: object"
      ]
     },
     "metadata": {},
     "output_type": "display_data"
    },
    {
     "name": "stdout",
     "output_type": "stream",
     "text": [
      "po_item\n"
     ]
    },
    {
     "data": {
      "text/plain": [
       "PO_ID                                  int64\n",
       "PO_NUMBER                             object\n",
       "MAT_SERV_TYPE                         object\n",
       "DOCUMENT_ITEM_ID                       int64\n",
       "ITEM_NUMBER                          float64\n",
       "TOP_ITEM_ID                            int64\n",
       "ITEM_TYPE                             object\n",
       "SHIP_ID                                int64\n",
       "SHIP_CODE                             object\n",
       "SHIP_NAME                             object\n",
       "MACHINERY_PART_ID                    float64\n",
       "PART_NAME                             object\n",
       "EQUIPMENT_ID                         float64\n",
       "EQUIPMENT_NAME                        object\n",
       "WO_TITLE                              object\n",
       "SERV_EST_COST1                       float64\n",
       "SERV_EST_COST2                       float64\n",
       "SERV_CONTR_COST1                     float64\n",
       "RECEIVED_DATE                 datetime64[ns]\n",
       "DELIVERED_DATE                datetime64[ns]\n",
       "COMPLETION_DATE               datetime64[ns]\n",
       "INVOICE_ITEM_TOTAL_COST              float64\n",
       "INVOICE_ITEM_CURRENCY_NAME            object\n",
       "INVOICE_ITEM_CURRENCY_ABBR            object\n",
       "INVOICE_NUMBER                        object\n",
       "INVOICE_DOCUMENT_ID                    int64\n",
       "INVOICE_DOCUMENT_ITEM_ID             float64\n",
       "INVOICE_DATE                  datetime64[ns]\n",
       "INVOICE_ITEM_UNIT_COST               float64\n",
       "INVOICE_CURRENCY                      object\n",
       "INVOICE_CURR_ABBR                     object\n",
       "TOTAL_DELIVERED_QTY                  float64\n",
       "TOTAL_RECEIPT_QTY                    float64\n",
       "INVOICE_QUANTITY                     float64\n",
       "LOCAL_TAX_TYPE                        object\n",
       "NATIONAL_TAX_TYPE                     object\n",
       "QUANTITY                             float64\n",
       "ABBREVIATION                          object\n",
       "UNIT_COST                            float64\n",
       "DISCOUNT                             float64\n",
       "LOCAL_TAX                            float64\n",
       "FEDERAL_TAX                          float64\n",
       "ADD_TO_HIERARCHY                       int64\n",
       "HCSCODE                              float64\n",
       "HIDDEN                                object\n",
       "PTNOREF_ID                           float64\n",
       "PART_NUMBER                           object\n",
       "EXCHANGE_RATE                        float64\n",
       "LAST_PRICE                           float64\n",
       "AVG_LAST_THREE                       float64\n",
       "AVG_COST                             float64\n",
       "LIFO_COST                            float64\n",
       "FIFO_COST                            float64\n",
       "DOC_HIDDEN                             int64\n",
       "SHIP_HIDDEN                            int64\n",
       "dtype: object"
      ]
     },
     "metadata": {},
     "output_type": "display_data"
    },
    {
     "name": "stdout",
     "output_type": "stream",
     "text": [
      "requisition\n"
     ]
    },
    {
     "data": {
      "text/plain": [
       "REQ_NUMBER                         int64\n",
       "DOCUMENT_ID                        int64\n",
       "DATE_NEEDED               datetime64[ns]\n",
       "MULTI_SHIP_REQ                     int64\n",
       "PRIORITY                          object\n",
       "                               ...      \n",
       "CITY_LATITUDE                     object\n",
       "CITY_LONGITUDE                    object\n",
       "CITY_DECIMAL_LATITUDE            float64\n",
       "CITY_DECIMAL_LONGITUDE           float64\n",
       "SHIP_HIDDEN                        int64\n",
       "Length: 68, dtype: object"
      ]
     },
     "metadata": {},
     "output_type": "display_data"
    },
    {
     "name": "stdout",
     "output_type": "stream",
     "text": [
      "requisition_analysis\n"
     ]
    },
    {
     "data": {
      "text/plain": [
       "REQ_NUMBER                     int64\n",
       "DOCUMENT_ID                    int64\n",
       "DATE_NEEDED           datetime64[ns]\n",
       "MULTI_SHIP_REQ                 int64\n",
       "PRIORITY                      object\n",
       "                           ...      \n",
       "FIRST_PO_RECEIPT              object\n",
       "LAST_PO_RECEIPT               object\n",
       "FIRST_PO_DELIVERED            object\n",
       "LAST_PO_DELIVERED             object\n",
       "INVC_APPROVED                 object\n",
       "Length: 86, dtype: object"
      ]
     },
     "metadata": {},
     "output_type": "display_data"
    },
    {
     "name": "stdout",
     "output_type": "stream",
     "text": [
      "requisition_items\n"
     ]
    },
    {
     "data": {
      "text/plain": [
       "REQ_NUMBER                     object\n",
       "DOCUMENT_ID                     int64\n",
       "REQ_DOCUMENT_ITEM_ID            int64\n",
       "PRICED_TAG                    float64\n",
       "REQ_ITEM_CATEGORY              object\n",
       "ESTIMATED_PRICE               float64\n",
       "PROCESSED_QTY                 float64\n",
       "ORIGINAL_QTY                  float64\n",
       "REQ_ITEM_LAST_STATUS           object\n",
       "ITEMSTATUS_LOOKUPITEM           int64\n",
       "ACCOUNT_NAME                   object\n",
       "ACCOUNT_NUMBER                 object\n",
       "ACCOUNT_ID                    float64\n",
       "PROJECT_DESC                   object\n",
       "PROJECT_ID                    float64\n",
       "PROJECT_NUMBER                 object\n",
       "ITEM_TYPE_LOOKUP_ID             int64\n",
       "ITEM_TYPE_ABBREVIATION         object\n",
       "QUANTITY                      float64\n",
       "UNIT_ID                         int64\n",
       "UNIT_NAME                      object\n",
       "UNIT_ABBREVIATION              object\n",
       "MACHINERY_PART_ID             float64\n",
       "PART_NAME                      object\n",
       "EQUIPMENT_ID                    int64\n",
       "EQUIPMENT_NAME                 object\n",
       "SHIP_ID                         int64\n",
       "SHIP_NAME                      object\n",
       "SHIP_CODE                      object\n",
       "TYPE_IN_ITEM_REMARKS           object\n",
       "ADD_TO_HIERARCHY                int64\n",
       "HCSCODE                       float64\n",
       "HIDDEN                         object\n",
       "PTNOREF_ID                    float64\n",
       "PART_NUMBER                    object\n",
       "DOC_LAST_STATUS_LOOKUPITEM    float64\n",
       "DOC_LAST_STATUS                object\n",
       "DOC_CURRENCY_ID               float64\n",
       "DOC_IS_MULTI_SHIP               int64\n",
       "DOC_REMARK_ID                 float64\n",
       "DOC_PRIORITY_LOOKUPITEM         int64\n",
       "REQ_ITEM_CATEGORY_INDXTRM     float64\n",
       "REVIEWED_ON                    object\n",
       "LAST_PRICE                    float64\n",
       "AVG_LAST_THREE                float64\n",
       "AVG_COST                      float64\n",
       "LIFO_COST                     float64\n",
       "FIFO_COST                     float64\n",
       "dtype: object"
      ]
     },
     "metadata": {},
     "output_type": "display_data"
    },
    {
     "name": "stdout",
     "output_type": "stream",
     "text": [
      "ship_administration\n"
     ]
    },
    {
     "data": {
      "text/plain": [
       "SHIP_NAME                              object\n",
       "SHIP_ID                                 int64\n",
       "SHIP_CODE                              object\n",
       "SHIP_NUM                               object\n",
       "WAREHOUSE                               int64\n",
       "PREVIOUS_NAME                          object\n",
       "FIN_YEAR_CYCLE_ID                     float64\n",
       "HIDDEN                                  int64\n",
       "REMARKS_ID                            float64\n",
       "START_DAY                             float64\n",
       "END_DAY                               float64\n",
       "FIN_YEAR_CYCLE_DESC                    object\n",
       "START_MONTH                            object\n",
       "END_MONTH                              object\n",
       "FISCAL_YEAR_TYPE                       object\n",
       "REMARKS                                object\n",
       "HULL_NUM                               object\n",
       "OFFICIAL_NUM                           object\n",
       "CLASS_NUM                              object\n",
       "MOBILE                                float64\n",
       "PORT_OF_REGISTRY                      float64\n",
       "CALL_SIGN                              object\n",
       "SHIP_CLASS                             object\n",
       "CONTRACT                              float64\n",
       "MANAGED                               float64\n",
       "MANAGE_START_DATE              datetime64[ns]\n",
       "MANAGE_END_DATE                datetime64[ns]\n",
       "MOBILE_NUMBER_ONE                      object\n",
       "MOBILE_NUMBER_TWO                      object\n",
       "MOBILE_NUMBER_THREE                    object\n",
       "EMAIL_ADDRESS                          object\n",
       "CONTACT_VOICE                          object\n",
       "CONTACT_DATA                          float64\n",
       "FAX                                    object\n",
       "IMO_NUMBER                            float64\n",
       "OWNER_ADDRESS_ID                      float64\n",
       "OWNNING_COMPANY                        object\n",
       "MANAGER_ADDRESS_ID                    float64\n",
       "MANAGING_COMPANY                       object\n",
       "CLASS_ADDRESS_ID                      float64\n",
       "CLASS_COMPANY                          object\n",
       "MANNED_BY_ADDRESS_ID                  float64\n",
       "MANNING_COMPANY                       float64\n",
       "NPDES_PERMIT_EFFECTIVE_DATE    datetime64[ns]\n",
       "NPDES_PERMIT_NUMBER                   float64\n",
       "PORT_OF_REGISTRY_CITY                  object\n",
       "PORT_OF_REGISTRY_COUNTRY               object\n",
       "CITY_LATITUDE                          object\n",
       "CITY_LONGITUDE                         object\n",
       "CITY_DECIMAL_LATITUDE                 float64\n",
       "CITY_DECIMAL_LONGITUDE                float64\n",
       "dtype: object"
      ]
     },
     "metadata": {},
     "output_type": "display_data"
    }
   ],
   "source": [
    "for i in datasets.keys():\n",
    "    print(i)\n",
    "    display(datasets[i].dtypes)"
   ]
  },
  {
   "cell_type": "code",
   "execution_count": 26,
   "id": "f0dbbcf0",
   "metadata": {},
   "outputs": [
    {
     "data": {
      "text/plain": [
       "0    2023-01-02 09:38:24\n",
       "1    2023-01-02 09:38:24\n",
       "2    2023-01-02 09:38:24\n",
       "3    2023-01-02 09:38:24\n",
       "4    2023-01-02 09:38:24\n",
       "5    2023-01-02 09:38:24\n",
       "6    2023-01-02 09:38:24\n",
       "7    2023-01-02 10:02:51\n",
       "8    2023-01-02 10:04:30\n",
       "9    2023-01-02 10:05:41\n",
       "10   2023-01-02 10:07:32\n",
       "11   2023-01-02 10:08:41\n",
       "12   2023-01-02 10:09:40\n",
       "13   2023-01-02 10:18:13\n",
       "14   2023-01-02 10:19:24\n",
       "15   2023-01-02 11:25:00\n",
       "16   2023-01-02 11:25:00\n",
       "17   2023-01-02 12:37:52\n",
       "18   2023-01-02 15:32:34\n",
       "19   2023-01-02 15:32:34\n",
       "20   2023-01-02 15:32:34\n",
       "21   2023-01-02 15:32:34\n",
       "22   2023-01-02 16:35:08\n",
       "23   2023-01-02 16:35:08\n",
       "24   2023-01-02 16:36:56\n",
       "25   2023-01-02 16:55:32\n",
       "26   2023-01-02 19:50:15\n",
       "27   2023-01-02 19:50:15\n",
       "28   2023-01-02 19:50:15\n",
       "29   2023-01-02 19:50:15\n",
       "30   2023-01-02 19:50:15\n",
       "31   2023-01-02 19:50:15\n",
       "32   2023-01-02 19:50:15\n",
       "33   2023-01-02 19:50:16\n",
       "34   2023-01-02 19:50:16\n",
       "35   2023-01-02 19:50:16\n",
       "36   2023-01-02 19:50:16\n",
       "37   2023-01-02 19:50:16\n",
       "38   2023-01-02 19:50:16\n",
       "39   2023-01-02 19:50:16\n",
       "40   2023-01-02 19:50:16\n",
       "41   2023-01-02 19:50:16\n",
       "42   2023-01-02 19:50:16\n",
       "43   2023-01-02 19:50:16\n",
       "44   2023-01-02 19:50:16\n",
       "45   2023-01-02 19:50:16\n",
       "46   2023-01-02 19:50:16\n",
       "47   2023-01-03 07:27:16\n",
       "48   2023-01-03 09:17:21\n",
       "49   2023-01-03 09:51:15\n",
       "Name: CREATED_DATE, dtype: datetime64[ns]"
      ]
     },
     "execution_count": 26,
     "metadata": {},
     "output_type": "execute_result"
    }
   ],
   "source": [
    "datasets[\"invoice_item\"][\"CREATED_DATE\"].head(50)"
   ]
  },
  {
   "cell_type": "markdown",
   "id": "9b850da5",
   "metadata": {},
   "source": [
    "## Steps for Analysis:\n",
    "#### Basic KPIs\n",
    "- Total number of invoices, purchase orders, requisitions, etc.\n",
    "- Average processing time for invoices, purchase orders, requisitions, etc.\n",
    "- Monthly expenditure, broken down by various categories.\n",
    "\n",
    "#### Trends and Patterns\n",
    "- Seasonal trends in procurement.\n",
    "- Correlations between different variables.\n",
    "- Most frequent items in purchase orders, invoices, and requisitions.\n",
    "\n",
    "#### Outliers and Abnormal Behavior\n",
    "- Identify unusually high or low expenditures.\n",
    "- Detect anomalies in processing times.\n",
    "- Flag potential errors or inconsistencies in the data.\n",
    "\n",
    "#### Data Preparation for Dashboard\n",
    "- Clean and prepare the data for visualization in a dashboard tool."
   ]
  },
  {
   "cell_type": "markdown",
   "id": "715f2b68",
   "metadata": {},
   "source": [
    "## Basic KPIs\n",
    "#### Invoices\n",
    "- Total number of invoices\n",
    "- Average processing time for invoices (if date information is available)\n",
    "- Total expenditure on invoices\n",
    "#### Purchase Orders\n",
    "- Total number of purchase orders\n",
    "- Average processing time for purchase orders (if date information is available)\n",
    "- Total expenditure on purchase orders\n",
    "#### Requisitions\n",
    "- Total number of requisitions\n",
    "- Average processing time for requisitions (if date information is available)\n",
    "- Total expenditure on requisitions (if price information is available)"
   ]
  },
  {
   "cell_type": "code",
   "execution_count": 27,
   "id": "1131f06b",
   "metadata": {},
   "outputs": [
    {
     "data": {
      "text/plain": [
       "{'Invoices': {'Total Number': 23281,\n",
       "  'Total Expenditure': 190611403.6,\n",
       "  'Average Processing Time (days)': 32.41194889779559},\n",
       " 'Purchase Orders': {'Total Number': 12027},\n",
       " 'Requisitions': {'Total Number': 6108}}"
      ]
     },
     "execution_count": 27,
     "metadata": {},
     "output_type": "execute_result"
    }
   ],
   "source": [
    "from datetime import datetime\n",
    "\n",
    "# Initialize a dictionary to store KPIs\n",
    "kpi_data = {}\n",
    "\n",
    "# KPIs for Invoices\n",
    "invoice_df = datasets['invoice']\n",
    "kpi_data['Invoices'] = {\n",
    "    'Total Number': len(invoice_df),\n",
    "    'Total Expenditure': invoice_df['TOTAL_INVOICE_AMOUNT'].sum()\n",
    "}\n",
    "# Calculate average processing time for invoices if date information is available\n",
    "if 'INVOICE_DATE' in invoice_df.columns and 'PAYMENT_DATE' in invoice_df.columns:\n",
    "    invoice_df['INVOICE_DATE'] = pd.to_datetime(invoice_df['INVOICE_DATE'], errors='coerce')\n",
    "    invoice_df['PAYMENT_DATE'] = pd.to_datetime(invoice_df['PAYMENT_DATE'], errors='coerce')\n",
    "    invoice_df['Processing Time'] = (invoice_df['PAYMENT_DATE'] - invoice_df['INVOICE_DATE']).dt.days\n",
    "    kpi_data['Invoices']['Average Processing Time (days)'] = invoice_df['Processing Time'].mean()\n",
    "\n",
    "# KPIs for Purchase Orders\n",
    "po_df = datasets['po']\n",
    "kpi_data['Purchase Orders'] = {\n",
    "    'Total Number': len(po_df)\n",
    "}\n",
    "# TODO: Calculate total expenditure and average processing time if information is available\n",
    "\n",
    "# KPIs for Requisitions\n",
    "requisition_df = datasets['requisition']\n",
    "kpi_data['Requisitions'] = {\n",
    "    'Total Number': len(requisition_df)\n",
    "}\n",
    "# TODO: Calculate total expenditure and average processing time if information is available\n",
    "\n",
    "kpi_data\n"
   ]
  },
  {
   "cell_type": "code",
   "execution_count": 28,
   "id": "e76104fa",
   "metadata": {},
   "outputs": [
    {
     "data": {
      "text/plain": [
       "(INVOICE_DATE\n",
       " 2002-01-10    1\n",
       " 2002-01-11    0\n",
       " 2002-01-12    0\n",
       " 2002-01-13    0\n",
       " 2002-01-14    0\n",
       " Freq: D, dtype: int64,\n",
       " INVOICE_DATE\n",
       " 2002-01-10    1113.0\n",
       " 2002-01-11       0.0\n",
       " 2002-01-12       0.0\n",
       " 2002-01-13       0.0\n",
       " 2002-01-14       0.0\n",
       " Freq: D, Name: TOTAL_INVOICE_AMOUNT, dtype: float64)"
      ]
     },
     "execution_count": 28,
     "metadata": {},
     "output_type": "execute_result"
    }
   ],
   "source": [
    "# Function to calculate time-based KPIs\n",
    "def calculate_time_based_kpis(df, date_column, value_column=None):\n",
    "    # Convert the date column to datetime format\n",
    "    df[date_column] = pd.to_datetime(df[date_column], errors='coerce')\n",
    "    \n",
    "    # Filter out rows with invalid or missing dates\n",
    "    df = df[df[date_column].notna()]\n",
    "    \n",
    "    # Group data and calculate KPIs\n",
    "    kpis = {}\n",
    "    timeframes = ['D', 'W', 'M', 'Y']  # Daily, Weekly, Monthly, Yearly\n",
    "    for timeframe in timeframes:\n",
    "        grouped = df.groupby(pd.Grouper(key=date_column, freq=timeframe))\n",
    "        kpis[timeframe] = {\n",
    "            'Total Count': grouped.size(),\n",
    "        }\n",
    "        if value_column:\n",
    "            kpis[timeframe]['Total Expenditure'] = grouped[value_column].sum()\n",
    "            \n",
    "    return kpis\n",
    "\n",
    "# Calculate time-based KPIs for Invoices\n",
    "invoice_time_kpis = calculate_time_based_kpis(invoice_df, 'INVOICE_DATE', 'TOTAL_INVOICE_AMOUNT')\n",
    "invoice_time_kpis['D']['Total Count'].head(), invoice_time_kpis['D']['Total Expenditure'].head()\n",
    "\n"
   ]
  },
  {
   "cell_type": "code",
   "execution_count": null,
   "id": "d08737a6",
   "metadata": {},
   "outputs": [],
   "source": []
  }
 ],
 "metadata": {
  "kernelspec": {
   "display_name": "Python 3 (ipykernel)",
   "language": "python",
   "name": "python3"
  },
  "language_info": {
   "codemirror_mode": {
    "name": "ipython",
    "version": 3
   },
   "file_extension": ".py",
   "mimetype": "text/x-python",
   "name": "python",
   "nbconvert_exporter": "python",
   "pygments_lexer": "ipython3",
   "version": "3.9.16"
  }
 },
 "nbformat": 4,
 "nbformat_minor": 5
}
