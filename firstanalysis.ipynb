{
 "cells": [
  {
   "cell_type": "code",
   "execution_count": 16,
   "id": "7fd24abf-ac47-49e3-9f8c-122676d7a69c",
   "metadata": {},
   "outputs": [
    {
     "data": {
      "text/html": [
       "<div>\n",
       "<style scoped>\n",
       "    .dataframe tbody tr th:only-of-type {\n",
       "        vertical-align: middle;\n",
       "    }\n",
       "\n",
       "    .dataframe tbody tr th {\n",
       "        vertical-align: top;\n",
       "    }\n",
       "\n",
       "    .dataframe thead th {\n",
       "        text-align: right;\n",
       "    }\n",
       "</style>\n",
       "<table border=\"1\" class=\"dataframe\">\n",
       "  <thead>\n",
       "    <tr style=\"text-align: right;\">\n",
       "      <th></th>\n",
       "      <th>id</th>\n",
       "      <th>type</th>\n",
       "      <th>actor</th>\n",
       "      <th>repo</th>\n",
       "      <th>payload</th>\n",
       "      <th>public</th>\n",
       "      <th>created_at</th>\n",
       "      <th>org</th>\n",
       "    </tr>\n",
       "  </thead>\n",
       "  <tbody>\n",
       "    <tr>\n",
       "      <th>0</th>\n",
       "      <td>2489651045</td>\n",
       "      <td>CreateEvent</td>\n",
       "      <td>{'id': 665991, 'login': 'petroav', 'gravatar_i...</td>\n",
       "      <td>{'id': 28688495, 'name': 'petroav/6.828', 'url...</td>\n",
       "      <td>{'ref': 'master', 'ref_type': 'branch', 'maste...</td>\n",
       "      <td>True</td>\n",
       "      <td>2015-01-01 15:00:00+00:00</td>\n",
       "      <td>NaN</td>\n",
       "    </tr>\n",
       "    <tr>\n",
       "      <th>1</th>\n",
       "      <td>2489651051</td>\n",
       "      <td>PushEvent</td>\n",
       "      <td>{'id': 3854017, 'login': 'rspt', 'gravatar_id'...</td>\n",
       "      <td>{'id': 28671719, 'name': 'rspt/rspt-theme', 'u...</td>\n",
       "      <td>{'push_id': 536863970, 'size': 1, 'distinct_si...</td>\n",
       "      <td>True</td>\n",
       "      <td>2015-01-01 15:00:01+00:00</td>\n",
       "      <td>NaN</td>\n",
       "    </tr>\n",
       "    <tr>\n",
       "      <th>2</th>\n",
       "      <td>2489651053</td>\n",
       "      <td>PushEvent</td>\n",
       "      <td>{'id': 6339799, 'login': 'izuzero', 'gravatar_...</td>\n",
       "      <td>{'id': 28270952, 'name': 'izuzero/xe-module-aj...</td>\n",
       "      <td>{'push_id': 536863972, 'size': 1, 'distinct_si...</td>\n",
       "      <td>True</td>\n",
       "      <td>2015-01-01 15:00:01+00:00</td>\n",
       "      <td>NaN</td>\n",
       "    </tr>\n",
       "    <tr>\n",
       "      <th>3</th>\n",
       "      <td>2489651057</td>\n",
       "      <td>WatchEvent</td>\n",
       "      <td>{'id': 6894991, 'login': 'SametSisartenep', 'g...</td>\n",
       "      <td>{'id': 2871998, 'name': 'visionmedia/debug', '...</td>\n",
       "      <td>{'action': 'started'}</td>\n",
       "      <td>True</td>\n",
       "      <td>2015-01-01 15:00:03+00:00</td>\n",
       "      <td>{'id': 9285252, 'login': 'visionmedia', 'grava...</td>\n",
       "    </tr>\n",
       "    <tr>\n",
       "      <th>4</th>\n",
       "      <td>2489651062</td>\n",
       "      <td>PushEvent</td>\n",
       "      <td>{'id': 485033, 'login': 'winterbe', 'gravatar_...</td>\n",
       "      <td>{'id': 28593843, 'name': 'winterbe/streamjs', ...</td>\n",
       "      <td>{'push_id': 536863975, 'size': 1, 'distinct_si...</td>\n",
       "      <td>True</td>\n",
       "      <td>2015-01-01 15:00:03+00:00</td>\n",
       "      <td>NaN</td>\n",
       "    </tr>\n",
       "    <tr>\n",
       "      <th>...</th>\n",
       "      <td>...</td>\n",
       "      <td>...</td>\n",
       "      <td>...</td>\n",
       "      <td>...</td>\n",
       "      <td>...</td>\n",
       "      <td>...</td>\n",
       "      <td>...</td>\n",
       "      <td>...</td>\n",
       "    </tr>\n",
       "    <tr>\n",
       "      <th>11346</th>\n",
       "      <td>2489678838</td>\n",
       "      <td>IssuesEvent</td>\n",
       "      <td>{'id': 1105372, 'login': 'ophian', 'gravatar_i...</td>\n",
       "      <td>{'id': 2627116, 'name': 's9y/Serendipity', 'ur...</td>\n",
       "      <td>{'action': 'closed', 'issue': {'url': 'https:/...</td>\n",
       "      <td>True</td>\n",
       "      <td>2015-01-01 15:59:59+00:00</td>\n",
       "      <td>{'id': 1104713, 'login': 's9y', 'gravatar_id':...</td>\n",
       "    </tr>\n",
       "    <tr>\n",
       "      <th>11347</th>\n",
       "      <td>2489678840</td>\n",
       "      <td>IssuesEvent</td>\n",
       "      <td>{'id': 9343331, 'login': 'No-CQRT', 'gravatar_...</td>\n",
       "      <td>{'id': 25600089, 'name': 'No-CQRT/GooGuns', 'u...</td>\n",
       "      <td>{'action': 'opened', 'issue': {'url': 'https:/...</td>\n",
       "      <td>True</td>\n",
       "      <td>2015-01-01 15:59:59+00:00</td>\n",
       "      <td>NaN</td>\n",
       "    </tr>\n",
       "    <tr>\n",
       "      <th>11348</th>\n",
       "      <td>2489678842</td>\n",
       "      <td>DeleteEvent</td>\n",
       "      <td>{'id': 2057932, 'login': 'LipkeGu', 'gravatar_...</td>\n",
       "      <td>{'id': 24847217, 'name': 'LipkeGu/OpenRA', 'ur...</td>\n",
       "      <td>{'ref': 'keep_source_clean', 'ref_type': 'bran...</td>\n",
       "      <td>True</td>\n",
       "      <td>2015-01-01 15:59:59+00:00</td>\n",
       "      <td>NaN</td>\n",
       "    </tr>\n",
       "    <tr>\n",
       "      <th>11349</th>\n",
       "      <td>2489678843</td>\n",
       "      <td>IssuesEvent</td>\n",
       "      <td>{'id': 9343331, 'login': 'No-CQRT', 'gravatar_...</td>\n",
       "      <td>{'id': 25600089, 'name': 'No-CQRT/GooGuns', 'u...</td>\n",
       "      <td>{'action': 'opened', 'issue': {'url': 'https:/...</td>\n",
       "      <td>True</td>\n",
       "      <td>2015-01-01 15:59:59+00:00</td>\n",
       "      <td>NaN</td>\n",
       "    </tr>\n",
       "    <tr>\n",
       "      <th>11350</th>\n",
       "      <td>2489678844</td>\n",
       "      <td>IssuesEvent</td>\n",
       "      <td>{'id': 9343331, 'login': 'No-CQRT', 'gravatar_...</td>\n",
       "      <td>{'id': 25600089, 'name': 'No-CQRT/GooGuns', 'u...</td>\n",
       "      <td>{'action': 'opened', 'issue': {'url': 'https:/...</td>\n",
       "      <td>True</td>\n",
       "      <td>2015-01-01 15:59:59+00:00</td>\n",
       "      <td>NaN</td>\n",
       "    </tr>\n",
       "  </tbody>\n",
       "</table>\n",
       "<p>11351 rows × 8 columns</p>\n",
       "</div>"
      ],
      "text/plain": [
       "               id         type  \\\n",
       "0      2489651045  CreateEvent   \n",
       "1      2489651051    PushEvent   \n",
       "2      2489651053    PushEvent   \n",
       "3      2489651057   WatchEvent   \n",
       "4      2489651062    PushEvent   \n",
       "...           ...          ...   \n",
       "11346  2489678838  IssuesEvent   \n",
       "11347  2489678840  IssuesEvent   \n",
       "11348  2489678842  DeleteEvent   \n",
       "11349  2489678843  IssuesEvent   \n",
       "11350  2489678844  IssuesEvent   \n",
       "\n",
       "                                                   actor  \\\n",
       "0      {'id': 665991, 'login': 'petroav', 'gravatar_i...   \n",
       "1      {'id': 3854017, 'login': 'rspt', 'gravatar_id'...   \n",
       "2      {'id': 6339799, 'login': 'izuzero', 'gravatar_...   \n",
       "3      {'id': 6894991, 'login': 'SametSisartenep', 'g...   \n",
       "4      {'id': 485033, 'login': 'winterbe', 'gravatar_...   \n",
       "...                                                  ...   \n",
       "11346  {'id': 1105372, 'login': 'ophian', 'gravatar_i...   \n",
       "11347  {'id': 9343331, 'login': 'No-CQRT', 'gravatar_...   \n",
       "11348  {'id': 2057932, 'login': 'LipkeGu', 'gravatar_...   \n",
       "11349  {'id': 9343331, 'login': 'No-CQRT', 'gravatar_...   \n",
       "11350  {'id': 9343331, 'login': 'No-CQRT', 'gravatar_...   \n",
       "\n",
       "                                                    repo  \\\n",
       "0      {'id': 28688495, 'name': 'petroav/6.828', 'url...   \n",
       "1      {'id': 28671719, 'name': 'rspt/rspt-theme', 'u...   \n",
       "2      {'id': 28270952, 'name': 'izuzero/xe-module-aj...   \n",
       "3      {'id': 2871998, 'name': 'visionmedia/debug', '...   \n",
       "4      {'id': 28593843, 'name': 'winterbe/streamjs', ...   \n",
       "...                                                  ...   \n",
       "11346  {'id': 2627116, 'name': 's9y/Serendipity', 'ur...   \n",
       "11347  {'id': 25600089, 'name': 'No-CQRT/GooGuns', 'u...   \n",
       "11348  {'id': 24847217, 'name': 'LipkeGu/OpenRA', 'ur...   \n",
       "11349  {'id': 25600089, 'name': 'No-CQRT/GooGuns', 'u...   \n",
       "11350  {'id': 25600089, 'name': 'No-CQRT/GooGuns', 'u...   \n",
       "\n",
       "                                                 payload  public  \\\n",
       "0      {'ref': 'master', 'ref_type': 'branch', 'maste...    True   \n",
       "1      {'push_id': 536863970, 'size': 1, 'distinct_si...    True   \n",
       "2      {'push_id': 536863972, 'size': 1, 'distinct_si...    True   \n",
       "3                                  {'action': 'started'}    True   \n",
       "4      {'push_id': 536863975, 'size': 1, 'distinct_si...    True   \n",
       "...                                                  ...     ...   \n",
       "11346  {'action': 'closed', 'issue': {'url': 'https:/...    True   \n",
       "11347  {'action': 'opened', 'issue': {'url': 'https:/...    True   \n",
       "11348  {'ref': 'keep_source_clean', 'ref_type': 'bran...    True   \n",
       "11349  {'action': 'opened', 'issue': {'url': 'https:/...    True   \n",
       "11350  {'action': 'opened', 'issue': {'url': 'https:/...    True   \n",
       "\n",
       "                     created_at  \\\n",
       "0     2015-01-01 15:00:00+00:00   \n",
       "1     2015-01-01 15:00:01+00:00   \n",
       "2     2015-01-01 15:00:01+00:00   \n",
       "3     2015-01-01 15:00:03+00:00   \n",
       "4     2015-01-01 15:00:03+00:00   \n",
       "...                         ...   \n",
       "11346 2015-01-01 15:59:59+00:00   \n",
       "11347 2015-01-01 15:59:59+00:00   \n",
       "11348 2015-01-01 15:59:59+00:00   \n",
       "11349 2015-01-01 15:59:59+00:00   \n",
       "11350 2015-01-01 15:59:59+00:00   \n",
       "\n",
       "                                                     org  \n",
       "0                                                    NaN  \n",
       "1                                                    NaN  \n",
       "2                                                    NaN  \n",
       "3      {'id': 9285252, 'login': 'visionmedia', 'grava...  \n",
       "4                                                    NaN  \n",
       "...                                                  ...  \n",
       "11346  {'id': 1104713, 'login': 's9y', 'gravatar_id':...  \n",
       "11347                                                NaN  \n",
       "11348                                                NaN  \n",
       "11349                                                NaN  \n",
       "11350                                                NaN  \n",
       "\n",
       "[11351 rows x 8 columns]"
      ]
     },
     "execution_count": 16,
     "metadata": {},
     "output_type": "execute_result"
    }
   ],
   "source": [
    "import pandas as pd\n",
    "df = pd.read_json(\"t.gz\", lines=True)\n",
    "df"
   ]
  },
  {
   "cell_type": "code",
   "execution_count": 18,
   "id": "05fc17fb-d3e7-4b5d-b0ec-9304d8406e37",
   "metadata": {},
   "outputs": [
    {
     "name": "stdout",
     "output_type": "stream",
     "text": [
      "<class 'pandas.core.frame.DataFrame'>\n",
      "RangeIndex: 11351 entries, 0 to 11350\n",
      "Data columns (total 8 columns):\n",
      " #   Column      Non-Null Count  Dtype              \n",
      "---  ------      --------------  -----              \n",
      " 0   id          11351 non-null  int64              \n",
      " 1   type        11351 non-null  object             \n",
      " 2   actor       11351 non-null  object             \n",
      " 3   repo        11351 non-null  object             \n",
      " 4   payload     11351 non-null  object             \n",
      " 5   public      11351 non-null  bool               \n",
      " 6   created_at  11351 non-null  datetime64[ns, UTC]\n",
      " 7   org         3245 non-null   object             \n",
      "dtypes: bool(1), datetime64[ns, UTC](1), int64(1), object(5)\n",
      "memory usage: 632.0+ KB\n"
     ]
    }
   ],
   "source": [
    "df.info()"
   ]
  },
  {
   "cell_type": "code",
   "execution_count": 22,
   "id": "5553178a-5c9e-4f9d-9921-f1cd182a1f42",
   "metadata": {},
   "outputs": [
    {
     "data": {
      "text/plain": [
       "{'id': 665991,\n",
       " 'login': 'petroav',\n",
       " 'gravatar_id': '',\n",
       " 'url': 'https://api.github.com/users/petroav',\n",
       " 'avatar_url': 'https://avatars.githubusercontent.com/u/665991?'}"
      ]
     },
     "execution_count": 22,
     "metadata": {},
     "output_type": "execute_result"
    }
   ],
   "source": [
    "df[\"actor\"][0]"
   ]
  },
  {
   "cell_type": "code",
   "execution_count": 23,
   "id": "b9475287-755a-4681-adb8-4948e2f08597",
   "metadata": {},
   "outputs": [
    {
     "data": {
      "text/plain": [
       "{'id': 28688495,\n",
       " 'name': 'petroav/6.828',\n",
       " 'url': 'https://api.github.com/repos/petroav/6.828'}"
      ]
     },
     "execution_count": 23,
     "metadata": {},
     "output_type": "execute_result"
    }
   ],
   "source": [
    "df[\"repo\"][0]"
   ]
  },
  {
   "cell_type": "code",
   "execution_count": 24,
   "id": "978324f1-8903-4c03-9e25-5804e5a74b7d",
   "metadata": {},
   "outputs": [
    {
     "data": {
      "text/plain": [
       "{'ref': 'master',\n",
       " 'ref_type': 'branch',\n",
       " 'master_branch': 'master',\n",
       " 'description': \"Solution to homework and assignments from MIT's 6.828 (Operating Systems Engineering). Done in my spare time.\",\n",
       " 'pusher_type': 'user'}"
      ]
     },
     "execution_count": 24,
     "metadata": {},
     "output_type": "execute_result"
    }
   ],
   "source": [
    "df[\"payload\"][0]"
   ]
  },
  {
   "cell_type": "code",
   "execution_count": 25,
   "id": "f314da8b-ba03-400c-b924-43135dca5bc0",
   "metadata": {},
   "outputs": [
    {
     "data": {
      "text/html": [
       "<div>\n",
       "<style scoped>\n",
       "    .dataframe tbody tr th:only-of-type {\n",
       "        vertical-align: middle;\n",
       "    }\n",
       "\n",
       "    .dataframe tbody tr th {\n",
       "        vertical-align: top;\n",
       "    }\n",
       "\n",
       "    .dataframe thead th {\n",
       "        text-align: right;\n",
       "    }\n",
       "</style>\n",
       "<table border=\"1\" class=\"dataframe\">\n",
       "  <thead>\n",
       "    <tr style=\"text-align: right;\">\n",
       "      <th></th>\n",
       "      <th>id</th>\n",
       "      <th>type</th>\n",
       "      <th>actor</th>\n",
       "      <th>repo</th>\n",
       "      <th>payload</th>\n",
       "      <th>public</th>\n",
       "      <th>created_at</th>\n",
       "      <th>org</th>\n",
       "    </tr>\n",
       "  </thead>\n",
       "  <tbody>\n",
       "    <tr>\n",
       "      <th>0</th>\n",
       "      <td>28137501092</td>\n",
       "      <td>PushEvent</td>\n",
       "      <td>{'id': 41898282, 'login': 'github-actions[bot]...</td>\n",
       "      <td>{'id': 568277185, 'name': 'stdlib-js/strided-b...</td>\n",
       "      <td>{'repository_id': 568277185, 'push_id': 131547...</td>\n",
       "      <td>True</td>\n",
       "      <td>2023-04-01 15:00:00+00:00</td>\n",
       "      <td>{'id': 17805691, 'login': 'stdlib-js', 'gravat...</td>\n",
       "    </tr>\n",
       "    <tr>\n",
       "      <th>1</th>\n",
       "      <td>28137501094</td>\n",
       "      <td>CreateEvent</td>\n",
       "      <td>{'id': 115239975, 'login': 'ishuduwal', 'displ...</td>\n",
       "      <td>{'id': 622248753, 'name': 'ishuduwal/personal-...</td>\n",
       "      <td>{'ref': 'main', 'ref_type': 'branch', 'master_...</td>\n",
       "      <td>True</td>\n",
       "      <td>2023-04-01 15:00:00+00:00</td>\n",
       "      <td>NaN</td>\n",
       "    </tr>\n",
       "    <tr>\n",
       "      <th>2</th>\n",
       "      <td>28137501097</td>\n",
       "      <td>CreateEvent</td>\n",
       "      <td>{'id': 50960481, 'login': 'bxbao87', 'display_...</td>\n",
       "      <td>{'id': 622248756, 'name': 'bxbao87/bloglist', ...</td>\n",
       "      <td>{'ref': 'main', 'ref_type': 'branch', 'master_...</td>\n",
       "      <td>True</td>\n",
       "      <td>2023-04-01 15:00:00+00:00</td>\n",
       "      <td>NaN</td>\n",
       "    </tr>\n",
       "    <tr>\n",
       "      <th>3</th>\n",
       "      <td>28137501098</td>\n",
       "      <td>PushEvent</td>\n",
       "      <td>{'id': 52915358, 'login': 'alwaz-shahid', 'dis...</td>\n",
       "      <td>{'id': 622201481, 'name': 'alwaz-shahid/extens...</td>\n",
       "      <td>{'repository_id': 622201481, 'push_id': 131547...</td>\n",
       "      <td>True</td>\n",
       "      <td>2023-04-01 15:00:00+00:00</td>\n",
       "      <td>NaN</td>\n",
       "    </tr>\n",
       "    <tr>\n",
       "      <th>4</th>\n",
       "      <td>28137501099</td>\n",
       "      <td>CreateEvent</td>\n",
       "      <td>{'id': 101326737, 'login': 'HOVADOVOLE', 'disp...</td>\n",
       "      <td>{'id': 622248605, 'name': 'HOVADOVOLE/Serial-P...</td>\n",
       "      <td>{'ref': 'main', 'ref_type': 'branch', 'master_...</td>\n",
       "      <td>True</td>\n",
       "      <td>2023-04-01 15:00:00+00:00</td>\n",
       "      <td>NaN</td>\n",
       "    </tr>\n",
       "    <tr>\n",
       "      <th>...</th>\n",
       "      <td>...</td>\n",
       "      <td>...</td>\n",
       "      <td>...</td>\n",
       "      <td>...</td>\n",
       "      <td>...</td>\n",
       "      <td>...</td>\n",
       "      <td>...</td>\n",
       "      <td>...</td>\n",
       "    </tr>\n",
       "    <tr>\n",
       "      <th>162882</th>\n",
       "      <td>28137962246</td>\n",
       "      <td>PullRequestEvent</td>\n",
       "      <td>{'id': 102293238, 'login': 'tamasakti', 'displ...</td>\n",
       "      <td>{'id': 616847687, 'name': 'group3-musiclab/Mus...</td>\n",
       "      <td>{'action': 'opened', 'number': 145, 'pull_requ...</td>\n",
       "      <td>True</td>\n",
       "      <td>2023-04-01 15:59:59+00:00</td>\n",
       "      <td>{'id': 128394147, 'login': 'group3-musiclab', ...</td>\n",
       "    </tr>\n",
       "    <tr>\n",
       "      <th>162883</th>\n",
       "      <td>28137963330</td>\n",
       "      <td>PullRequestReviewCommentEvent</td>\n",
       "      <td>{'id': 2043821, 'login': 'mecampbellsoup', 'di...</td>\n",
       "      <td>{'id': 620854169, 'name': 'coreweave/kopf', 'u...</td>\n",
       "      <td>{'action': 'created', 'comment': {'url': 'http...</td>\n",
       "      <td>True</td>\n",
       "      <td>2023-04-01 15:51:23+00:00</td>\n",
       "      <td>{'id': 50837895, 'login': 'coreweave', 'gravat...</td>\n",
       "    </tr>\n",
       "    <tr>\n",
       "      <th>162884</th>\n",
       "      <td>28137963332</td>\n",
       "      <td>PullRequestReviewCommentEvent</td>\n",
       "      <td>{'id': 2043821, 'login': 'mecampbellsoup', 'di...</td>\n",
       "      <td>{'id': 620854169, 'name': 'coreweave/kopf', 'u...</td>\n",
       "      <td>{'action': 'created', 'comment': {'url': 'http...</td>\n",
       "      <td>True</td>\n",
       "      <td>2023-04-01 15:54:26+00:00</td>\n",
       "      <td>{'id': 50837895, 'login': 'coreweave', 'gravat...</td>\n",
       "    </tr>\n",
       "    <tr>\n",
       "      <th>162885</th>\n",
       "      <td>28137963339</td>\n",
       "      <td>PullRequestReviewCommentEvent</td>\n",
       "      <td>{'id': 2043821, 'login': 'mecampbellsoup', 'di...</td>\n",
       "      <td>{'id': 620854169, 'name': 'coreweave/kopf', 'u...</td>\n",
       "      <td>{'action': 'created', 'comment': {'url': 'http...</td>\n",
       "      <td>True</td>\n",
       "      <td>2023-04-01 15:59:54+00:00</td>\n",
       "      <td>{'id': 50837895, 'login': 'coreweave', 'gravat...</td>\n",
       "    </tr>\n",
       "    <tr>\n",
       "      <th>162886</th>\n",
       "      <td>28137965708</td>\n",
       "      <td>PullRequestReviewCommentEvent</td>\n",
       "      <td>{'id': 65345529, 'login': 'besvova490', 'displ...</td>\n",
       "      <td>{'id': 609665680, 'name': 'AlenaHavaleshko/Bee...</td>\n",
       "      <td>{'action': 'created', 'comment': {'url': 'http...</td>\n",
       "      <td>True</td>\n",
       "      <td>2023-04-01 15:57:25+00:00</td>\n",
       "      <td>NaN</td>\n",
       "    </tr>\n",
       "  </tbody>\n",
       "</table>\n",
       "<p>162887 rows × 8 columns</p>\n",
       "</div>"
      ],
      "text/plain": [
       "                 id                           type  \\\n",
       "0       28137501092                      PushEvent   \n",
       "1       28137501094                    CreateEvent   \n",
       "2       28137501097                    CreateEvent   \n",
       "3       28137501098                      PushEvent   \n",
       "4       28137501099                    CreateEvent   \n",
       "...             ...                            ...   \n",
       "162882  28137962246               PullRequestEvent   \n",
       "162883  28137963330  PullRequestReviewCommentEvent   \n",
       "162884  28137963332  PullRequestReviewCommentEvent   \n",
       "162885  28137963339  PullRequestReviewCommentEvent   \n",
       "162886  28137965708  PullRequestReviewCommentEvent   \n",
       "\n",
       "                                                    actor  \\\n",
       "0       {'id': 41898282, 'login': 'github-actions[bot]...   \n",
       "1       {'id': 115239975, 'login': 'ishuduwal', 'displ...   \n",
       "2       {'id': 50960481, 'login': 'bxbao87', 'display_...   \n",
       "3       {'id': 52915358, 'login': 'alwaz-shahid', 'dis...   \n",
       "4       {'id': 101326737, 'login': 'HOVADOVOLE', 'disp...   \n",
       "...                                                   ...   \n",
       "162882  {'id': 102293238, 'login': 'tamasakti', 'displ...   \n",
       "162883  {'id': 2043821, 'login': 'mecampbellsoup', 'di...   \n",
       "162884  {'id': 2043821, 'login': 'mecampbellsoup', 'di...   \n",
       "162885  {'id': 2043821, 'login': 'mecampbellsoup', 'di...   \n",
       "162886  {'id': 65345529, 'login': 'besvova490', 'displ...   \n",
       "\n",
       "                                                     repo  \\\n",
       "0       {'id': 568277185, 'name': 'stdlib-js/strided-b...   \n",
       "1       {'id': 622248753, 'name': 'ishuduwal/personal-...   \n",
       "2       {'id': 622248756, 'name': 'bxbao87/bloglist', ...   \n",
       "3       {'id': 622201481, 'name': 'alwaz-shahid/extens...   \n",
       "4       {'id': 622248605, 'name': 'HOVADOVOLE/Serial-P...   \n",
       "...                                                   ...   \n",
       "162882  {'id': 616847687, 'name': 'group3-musiclab/Mus...   \n",
       "162883  {'id': 620854169, 'name': 'coreweave/kopf', 'u...   \n",
       "162884  {'id': 620854169, 'name': 'coreweave/kopf', 'u...   \n",
       "162885  {'id': 620854169, 'name': 'coreweave/kopf', 'u...   \n",
       "162886  {'id': 609665680, 'name': 'AlenaHavaleshko/Bee...   \n",
       "\n",
       "                                                  payload  public  \\\n",
       "0       {'repository_id': 568277185, 'push_id': 131547...    True   \n",
       "1       {'ref': 'main', 'ref_type': 'branch', 'master_...    True   \n",
       "2       {'ref': 'main', 'ref_type': 'branch', 'master_...    True   \n",
       "3       {'repository_id': 622201481, 'push_id': 131547...    True   \n",
       "4       {'ref': 'main', 'ref_type': 'branch', 'master_...    True   \n",
       "...                                                   ...     ...   \n",
       "162882  {'action': 'opened', 'number': 145, 'pull_requ...    True   \n",
       "162883  {'action': 'created', 'comment': {'url': 'http...    True   \n",
       "162884  {'action': 'created', 'comment': {'url': 'http...    True   \n",
       "162885  {'action': 'created', 'comment': {'url': 'http...    True   \n",
       "162886  {'action': 'created', 'comment': {'url': 'http...    True   \n",
       "\n",
       "                      created_at  \\\n",
       "0      2023-04-01 15:00:00+00:00   \n",
       "1      2023-04-01 15:00:00+00:00   \n",
       "2      2023-04-01 15:00:00+00:00   \n",
       "3      2023-04-01 15:00:00+00:00   \n",
       "4      2023-04-01 15:00:00+00:00   \n",
       "...                          ...   \n",
       "162882 2023-04-01 15:59:59+00:00   \n",
       "162883 2023-04-01 15:51:23+00:00   \n",
       "162884 2023-04-01 15:54:26+00:00   \n",
       "162885 2023-04-01 15:59:54+00:00   \n",
       "162886 2023-04-01 15:57:25+00:00   \n",
       "\n",
       "                                                      org  \n",
       "0       {'id': 17805691, 'login': 'stdlib-js', 'gravat...  \n",
       "1                                                     NaN  \n",
       "2                                                     NaN  \n",
       "3                                                     NaN  \n",
       "4                                                     NaN  \n",
       "...                                                   ...  \n",
       "162882  {'id': 128394147, 'login': 'group3-musiclab', ...  \n",
       "162883  {'id': 50837895, 'login': 'coreweave', 'gravat...  \n",
       "162884  {'id': 50837895, 'login': 'coreweave', 'gravat...  \n",
       "162885  {'id': 50837895, 'login': 'coreweave', 'gravat...  \n",
       "162886                                                NaN  \n",
       "\n",
       "[162887 rows x 8 columns]"
      ]
     },
     "execution_count": 25,
     "metadata": {},
     "output_type": "execute_result"
    }
   ],
   "source": [
    "df2 = pd.read_json(\"tt.gz\", lines=True)\n",
    "df2"
   ]
  },
  {
   "cell_type": "code",
   "execution_count": 68,
   "id": "6e8f3a24-2cae-486d-b111-ef4d5776eeab",
   "metadata": {},
   "outputs": [
    {
     "data": {
      "text/plain": [
       "{'id': 41898282,\n",
       " 'login': 'github-actions[bot]',\n",
       " 'display_login': 'github-actions',\n",
       " 'gravatar_id': '',\n",
       " 'url': 'https://api.github.com/users/github-actions[bot]',\n",
       " 'avatar_url': 'https://avatars.githubusercontent.com/u/41898282?'}"
      ]
     },
     "execution_count": 68,
     "metadata": {},
     "output_type": "execute_result"
    }
   ],
   "source": [
    "df2[\"actor\"][0]"
   ]
  },
  {
   "cell_type": "code",
   "execution_count": 28,
   "id": "f34e817e-8020-49ef-98a9-8dbea40644f7",
   "metadata": {},
   "outputs": [
    {
     "data": {
      "text/plain": [
       "{'id': 622248753,\n",
       " 'name': 'ishuduwal/personal-website',\n",
       " 'url': 'https://api.github.com/repos/ishuduwal/personal-website'}"
      ]
     },
     "execution_count": 28,
     "metadata": {},
     "output_type": "execute_result"
    }
   ],
   "source": [
    "df2[\"repo\"][1]"
   ]
  },
  {
   "cell_type": "code",
   "execution_count": 29,
   "id": "223879bc-39a6-43cd-ad0b-641f0a77345f",
   "metadata": {},
   "outputs": [
    {
     "data": {
      "text/plain": [
       "{'ref': 'main',\n",
       " 'ref_type': 'branch',\n",
       " 'master_branch': 'main',\n",
       " 'description': None,\n",
       " 'pusher_type': 'user'}"
      ]
     },
     "execution_count": 29,
     "metadata": {},
     "output_type": "execute_result"
    }
   ],
   "source": [
    "df2[\"payload\"][1]"
   ]
  },
  {
   "cell_type": "code",
   "execution_count": 55,
   "id": "e421b099-80a1-403c-adf5-342acee87477",
   "metadata": {},
   "outputs": [
    {
     "data": {
      "text/plain": [
       "{'ref': 'main',\n",
       " 'ref_type': 'branch',\n",
       " 'master_branch': 'main',\n",
       " 'description': None,\n",
       " 'pusher_type': 'user'}"
      ]
     },
     "execution_count": 55,
     "metadata": {},
     "output_type": "execute_result"
    }
   ],
   "source": [
    "df2[\"payload\"][2]"
   ]
  },
  {
   "cell_type": "code",
   "execution_count": 56,
   "id": "997aac99-6db7-449d-b17b-b7091c8dbf40",
   "metadata": {},
   "outputs": [
    {
     "data": {
      "text/plain": [
       "{'repository_id': 622201481,\n",
       " 'push_id': 13154777738,\n",
       " 'size': 1,\n",
       " 'distinct_size': 1,\n",
       " 'ref': 'refs/heads/master',\n",
       " 'head': '9db66e6d768d066bac5a7bcafc2bfee03a9d440e',\n",
       " 'before': '0233f4a6e942c51dc9fd6bda0487b912c4d390e1',\n",
       " 'commits': [{'sha': '9db66e6d768d066bac5a7bcafc2bfee03a9d440e',\n",
       "   'author': {'email': '52915358+Alwaz18@users.noreply.github.com',\n",
       "    'name': 'Alwaz Shahid'},\n",
       "   'message': 'readme',\n",
       "   'distinct': True,\n",
       "   'url': 'https://api.github.com/repos/alwaz-shahid/extension-firefox-get-tabs/commits/9db66e6d768d066bac5a7bcafc2bfee03a9d440e'}]}"
      ]
     },
     "execution_count": 56,
     "metadata": {},
     "output_type": "execute_result"
    }
   ],
   "source": [
    "df2[\"payload\"][3]"
   ]
  },
  {
   "cell_type": "code",
   "execution_count": 1,
   "id": "04ad7f52-6da3-40f6-a190-51a627922b35",
   "metadata": {},
   "outputs": [
    {
     "ename": "NameError",
     "evalue": "name 'df2' is not defined",
     "output_type": "error",
     "traceback": [
      "\u001b[1;31m---------------------------------------------------------------------------\u001b[0m",
      "\u001b[1;31mNameError\u001b[0m                                 Traceback (most recent call last)",
      "Input \u001b[1;32mIn [1]\u001b[0m, in \u001b[0;36m<cell line: 1>\u001b[1;34m()\u001b[0m\n\u001b[1;32m----> 1\u001b[0m \u001b[43mdf2\u001b[49m[\u001b[38;5;124m\"\u001b[39m\u001b[38;5;124mpayload\u001b[39m\u001b[38;5;124m\"\u001b[39m][\u001b[38;5;241m4\u001b[39m]\n",
      "\u001b[1;31mNameError\u001b[0m: name 'df2' is not defined"
     ]
    }
   ],
   "source": [
    "df2[\"payload\"][4]"
   ]
  },
  {
   "cell_type": "code",
   "execution_count": 58,
   "id": "c06c5150-b935-4fb5-930d-9d34a29d6659",
   "metadata": {},
   "outputs": [
    {
     "data": {
      "text/plain": [
       "{'repository_id': 567274011,\n",
       " 'push_id': 13154777732,\n",
       " 'size': 1,\n",
       " 'distinct_size': 1,\n",
       " 'ref': 'refs/heads/main',\n",
       " 'head': '444c5ef70a3f6ee6827aa0ad94128cad30401904',\n",
       " 'before': 'e136974a9f57e5051a482655ef564946491e8028',\n",
       " 'commits': [{'sha': '444c5ef70a3f6ee6827aa0ad94128cad30401904',\n",
       "   'author': {'email': 'florencia.berardi@hotmail.com', 'name': 'FlorBera'},\n",
       "   'message': 'fix error en ProductEdit, que no traía name completo',\n",
       "   'distinct': True,\n",
       "   'url': 'https://api.github.com/repos/patolow/grupo_2_DH-gamers/commits/444c5ef70a3f6ee6827aa0ad94128cad30401904'}]}"
      ]
     },
     "execution_count": 58,
     "metadata": {},
     "output_type": "execute_result"
    }
   ],
   "source": [
    "df2[\"payload\"][5]"
   ]
  },
  {
   "cell_type": "code",
   "execution_count": 38,
   "id": "90773fcd-6701-481e-b58b-3916f57e4c7f",
   "metadata": {},
   "outputs": [],
   "source": [
    "from github import Github"
   ]
  },
  {
   "cell_type": "code",
   "execution_count": 41,
   "id": "d6f70634-5e67-4ef1-8667-7e7bf2518af6",
   "metadata": {},
   "outputs": [],
   "source": [
    "g = Github(login_or_token=\"----\", password=\"----\")"
   ]
  },
  {
   "cell_type": "code",
   "execution_count": 44,
   "id": "a55b0995-7f20-4dce-a224-197a229abbcc",
   "metadata": {},
   "outputs": [],
   "source": [
    "user = g.get_user(\"ishuduwal\")"
   ]
  },
  {
   "cell_type": "code",
   "execution_count": 45,
   "id": "780f15d1-9dff-4caa-87fc-14cf0af6dce8",
   "metadata": {},
   "outputs": [
    {
     "name": "stdout",
     "output_type": "stream",
     "text": [
      "duwazza\n",
      "2022-10-07 12:57:48+00:00\n",
      "Bhaktapur,Nepal\n"
     ]
    }
   ],
   "source": [
    "print(user.name)\n",
    "print(user.created_at)\n",
    "print(user.location)"
   ]
  },
  {
   "cell_type": "code",
   "execution_count": 60,
   "id": "443a0f8c-3f29-484c-b04d-448fbac464b4",
   "metadata": {},
   "outputs": [],
   "source": [
    "user = g.get_user(\"FlorBera\")"
   ]
  },
  {
   "cell_type": "code",
   "execution_count": 61,
   "id": "882a8467-3c19-475a-8230-ad18c75dd2ed",
   "metadata": {},
   "outputs": [
    {
     "name": "stdout",
     "output_type": "stream",
     "text": [
      "Flor Berardi\n",
      "2022-11-09 13:49:30+00:00\n",
      "None\n",
      "None\n"
     ]
    }
   ],
   "source": [
    "print(user.name)\n",
    "print(user.created_at)\n",
    "print(user.location)\n",
    "print(user.email)"
   ]
  },
  {
   "cell_type": "code",
   "execution_count": null,
   "id": "e07df4dd-6f30-4157-933a-5f4b480ef80c",
   "metadata": {},
   "outputs": [],
   "source": []
  }
 ],
 "metadata": {
  "kernelspec": {
   "display_name": "Python 3 (ipykernel)",
   "language": "python",
   "name": "python3"
  },
  "language_info": {
   "codemirror_mode": {
    "name": "ipython",
    "version": 3
   },
   "file_extension": ".py",
   "mimetype": "text/x-python",
   "name": "python",
   "nbconvert_exporter": "python",
   "pygments_lexer": "ipython3",
   "version": "3.9.12"
  }
 },
 "nbformat": 4,
 "nbformat_minor": 5
}
