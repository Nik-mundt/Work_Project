{
 "cells": [
  {
   "cell_type": "code",
   "execution_count": null,
   "id": "b2f6dbe6",
   "metadata": {},
   "outputs": [],
   "source": [
    "!pip install --upgrade google-cloud-bigquery"
   ]
  },
  {
   "cell_type": "markdown",
   "id": "dda5e332",
   "metadata": {},
   "source": [
    "To get the credential.json do the following:\n",
    "1. Go to Google API -> choose BigQuery API\n",
    "https://console.cloud.google.com/apis/dashboard\n",
    "2. Create a project and activate the API\n",
    "3. Go to login credentials and create a service Account\n",
    "4. Download the credentials as json and save it in the data folder (we don't sync the data folder so its save)\n",
    "5. Change the name of the credentials path to your id (or should we all have the same?)"
   ]
  },
  {
   "cell_type": "code",
   "execution_count": 91,
   "id": "d823b153",
   "metadata": {},
   "outputs": [
    {
     "name": "stdout",
     "output_type": "stream",
     "text": [
      "                                     commit  \\\n",
      "0  d886e7ce157373773254f5c1e7f011cd9d3ec558   \n",
      "1  6829e274a623187c24f7cfc0e3d35f25d087fcc5   \n",
      "2  1d1ddf67dc3bfd80f60b216fa1fedfb242bee299   \n",
      "3  146a6917fc30616401a090f55cff2b855ee5b2ab   \n",
      "4  437184ae8bd1ef923a40b009e37801deae66ad55   \n",
      "\n",
      "                                       tree  \\\n",
      "0  3a3ecc7af2269c41cff20eded1b9f7d97161ecfb   \n",
      "1  a6ca873b29878ee7bc8c328af8a64bae0f49a37e   \n",
      "2  e62ad9b0949e30bc058c8aea75ce11dcb38e72da   \n",
      "3  b931b7a2d3e8eb049a129216767c66b8586bbdd9   \n",
      "4  9b9fc2b295998135334c9a6fa32efff589486187   \n",
      "\n",
      "                                       parent  \\\n",
      "0  [93a2f6329f40d951101ab8ab160f24680f1c122a]   \n",
      "1  [6544e67bfb1bf55bcf3c0f6b37631917e9acfb74]   \n",
      "2  [4b3dc9679cf779339d9049800803dfc3c83433d1]   \n",
      "3  [0f2a86f200bc97ae6cefc5d3ac879094b3fcde48]   \n",
      "4  [a96d6ef34751093797c3a6c6080733dd7af23d35]   \n",
      "\n",
      "                                              author  \\\n",
      "0  {'name': 'Geert Uytterhoeven', 'email': 'a1ff8...   \n",
      "1  {'name': 'Marek Szyprowski', 'email': '2a02597...   \n",
      "2  {'name': 'Robin Murphy', 'email': 'fc649ac0861...   \n",
      "3  {'name': 'Joerg Roedel', 'email': 'ebd221a096c...   \n",
      "4  {'name': 'Henrik Rydberg', 'email': 'b7088a9c7...   \n",
      "\n",
      "                                           committer  \\\n",
      "0  {'name': 'Jonathan Corbet', 'email': 'b2ce64d5...   \n",
      "1  {'name': 'Will Deacon', 'email': 'b913f13ef92a...   \n",
      "2  {'name': 'Will Deacon', 'email': 'b913f13ef92a...   \n",
      "3  {'name': 'Joerg Roedel', 'email': 'ebd221a096c...   \n",
      "4  {'name': 'Jiri Kosina', 'email': 'ed58f755cc8c...   \n",
      "\n",
      "                                             subject  \\\n",
      "0  serial: doc: Grammar s/function are/functions ...   \n",
      "1  arm64: dma-mapping: always clear allocated buf...   \n",
      "2    arm64: dma-mapping: implement dma_get_sgtable()   \n",
      "3  AMD IOMMU: add stats counter for unmap_single ...   \n",
      "4  HID: map macbook keys for \"Expose\" and \"Dashbo...   \n",
      "\n",
      "                                             message  \\\n",
      "0  serial: doc: Grammar s/function are/functions ...   \n",
      "1  arm64: dma-mapping: always clear allocated buf...   \n",
      "2  arm64: dma-mapping: implement dma_get_sgtable(...   \n",
      "3  AMD IOMMU: add stats counter for unmap_single ...   \n",
      "4  HID: map macbook keys for \"Expose\" and \"Dashbo...   \n",
      "\n",
      "                                             trailer  \\\n",
      "0  [{'key': 'Signed-off-by', 'value': 'Geert Uytt...   \n",
      "1  [{'key': 'Cc', 'value': '<4fbacc2fa0ffdbb11bf1...   \n",
      "2  [{'key': 'CC', 'value': 'Jon Medhurst <90cd1a2...   \n",
      "3  [{'key': 'Signed-off-by', 'value': 'Joerg Roed...   \n",
      "4  [{'key': 'Acked-by', 'value': 'Dmitry Torokhov...   \n",
      "\n",
      "                                          difference  difference_truncated  \\\n",
      "0  [{'old_mode': 33188, 'new_mode': 33188, 'old_p...                  <NA>   \n",
      "1  [{'old_mode': 33188, 'new_mode': 33188, 'old_p...                  <NA>   \n",
      "2  [{'old_mode': 33188, 'new_mode': 33188, 'old_p...                  <NA>   \n",
      "3  [{'old_mode': 33188, 'new_mode': 33188, 'old_p...                  <NA>   \n",
      "4  [{'old_mode': 33188, 'new_mode': 33188, 'old_p...                  <NA>   \n",
      "\n",
      "        repo_name encoding  \n",
      "0  torvalds/linux     None  \n",
      "1  torvalds/linux     None  \n",
      "2  torvalds/linux     None  \n",
      "3  torvalds/linux     None  \n",
      "4  torvalds/linux     None  \n"
     ]
    }
   ],
   "source": [
    "from google.cloud import bigquery\n",
    "from google.oauth2 import service_account\n",
    "\n",
    "# Set up credentials and client\n",
    "credentials_path = 'data/work-thesis-7b6f35ce5dfc.json'\n",
    "credentials = service_account.Credentials.from_service_account_file(credentials_path)\n",
    "client = bigquery.Client(credentials=credentials, project=credentials.project_id)\n",
    "\n",
    "# Example Query\n",
    "query = \"\"\"\n",
    "    SELECT *\n",
    "    FROM `bigquery-public-data.github_repos.sample_commits`\n",
    "\"\"\"\n",
    "\n",
    "# Execute the query\n",
    "query_job = client.query(query)\n",
    "df = query_job.to_dataframe()\n",
    "\n",
    "# Displaying first few rows of the DataFrame\n",
    "print(df.head())"
   ]
  },
  {
   "cell_type": "code",
   "execution_count": 95,
   "id": "707974eb",
   "metadata": {},
   "outputs": [],
   "source": [
    "df.to_csv(\"data/sample_commits_full.csv\")"
   ]
  },
  {
   "cell_type": "code",
   "execution_count": 92,
   "id": "ffb484ef",
   "metadata": {},
   "outputs": [
    {
     "data": {
      "text/plain": [
       "{'name': 'Jonathan Corbet',\n",
       " 'email': 'b2ce64d5587c02f12e367eac59751145a0660c51@lwn.net',\n",
       " 'time_sec': 1459407515,\n",
       " 'tz_offset': -360,\n",
       " 'date': datetime.datetime(2016, 3, 31, 6, 58, 35, tzinfo=<UTC>)}"
      ]
     },
     "execution_count": 92,
     "metadata": {},
     "output_type": "execute_result"
    }
   ],
   "source": [
    "df.committer[0]"
   ]
  },
  {
   "cell_type": "code",
   "execution_count": 102,
   "id": "8b05cf90",
   "metadata": {},
   "outputs": [
    {
     "data": {
      "text/plain": [
       "3"
      ]
     },
     "execution_count": 102,
     "metadata": {},
     "output_type": "execute_result"
    }
   ],
   "source": [
    "df.committer[0][\"date\"].month"
   ]
  },
  {
   "cell_type": "code",
   "execution_count": 104,
   "id": "2bfa7064",
   "metadata": {},
   "outputs": [
    {
     "data": {
      "text/plain": [
       "2016"
      ]
     },
     "execution_count": 104,
     "metadata": {},
     "output_type": "execute_result"
    }
   ],
   "source": [
    "df.committer[0][\"date\"].year"
   ]
  },
  {
   "cell_type": "code",
   "execution_count": 105,
   "id": "7966ea0f",
   "metadata": {},
   "outputs": [
    {
     "data": {
      "text/plain": [
       "(2016, 3)"
      ]
     },
     "execution_count": 105,
     "metadata": {},
     "output_type": "execute_result"
    }
   ],
   "source": [
    "import datetime\n",
    "# Convert timestamp to datetime object\n",
    "dt_object = df.committer[0][\"date\"]\n",
    "\n",
    "# Extract the year\n",
    "year = dt_object.year\n",
    "month = dt_object.month\n",
    "\n",
    "year, month"
   ]
  },
  {
   "cell_type": "code",
   "execution_count": 106,
   "id": "af0abbd7",
   "metadata": {},
   "outputs": [
    {
     "data": {
      "text/plain": [
       "Index(['commit', 'tree', 'parent', 'author', 'committer', 'subject', 'message',\n",
       "       'trailer', 'difference', 'difference_truncated', 'repo_name',\n",
       "       'encoding'],\n",
       "      dtype='object')"
      ]
     },
     "execution_count": 106,
     "metadata": {},
     "output_type": "execute_result"
    }
   ],
   "source": [
    "df.columns"
   ]
  },
  {
   "cell_type": "code",
   "execution_count": null,
   "id": "9fa44304",
   "metadata": {},
   "outputs": [],
   "source": [
    "df.describe()"
   ]
  },
  {
   "cell_type": "markdown",
   "id": "b43d6b20",
   "metadata": {},
   "source": [
    "## Big Dataset: Proceed with caution\n",
    "Going on the Big Dataset and trying to get all dara for April 2023\n",
    "-> still no success"
   ]
  },
  {
   "cell_type": "code",
   "execution_count": null,
   "id": "9acbc569",
   "metadata": {},
   "outputs": [],
   "source": [
    "#    WHERE \n",
    "#      EXTRACT(YEAR FROM TIMESTAMP_SECONDS(committer.date.seconds)) = 2023 AND \n",
    "#      EXTRACT(MONTH FROM TIMESTAMP_SECONDS(committer.date.seconds)) = 4;\n",
    "query = \"\"\"\n",
    "    SELECT committer, repo_name, subject, message,\n",
    "    FROM `bigquery-public-data.github_repos.commits`\n",
    "    WHERE \n",
    "        EXTRACT(YEAR FROM TIMESTAMP_SECONDS(committer.date.seconds)) = 2023 AND \n",
    "        EXTRACT(MONTH FROM TIMESTAMP_SECONDS(committer.date.seconds)) = 4 AND\n",
    "        EXTRACT(DAY FROM TIMESTAMP_SECONDS(committer.date.seconds)) BETWEEN 1 AND 2 AND\n",
    "        RAND() <= 0.01\n",
    "    LIMIT 5000;\n",
    "\"\"\"\n",
    "\n",
    "# Execute the query\n",
    "query_job = client.query(query)\n",
    "df_april = query_job.to_dataframe()"
   ]
  },
  {
   "cell_type": "code",
   "execution_count": null,
   "id": "1f721a33",
   "metadata": {},
   "outputs": [],
   "source": [
    "df_april.committer[0]"
   ]
  },
  {
   "cell_type": "code",
   "execution_count": null,
   "id": "e9bf8428",
   "metadata": {},
   "outputs": [],
   "source": [
    "import datetime\n",
    "# Convert timestamp to datetime object\n",
    "dt_object = datetime.datetime.utcfromtimestamp(df_april.committer[0][\"date\"][\"seconds\"])\n",
    "\n",
    "# Extract the year\n",
    "year = dt_object.month\n",
    "year"
   ]
  },
  {
   "cell_type": "code",
   "execution_count": null,
   "id": "f2bdca98",
   "metadata": {},
   "outputs": [],
   "source": [
    "import pandas as pd\n",
    "# Extract unique repo names\n",
    "unique_repo_names = list(pd.Series([repo for sublist in df_april['repo_name'] for repo in sublist]).unique())\n",
    "\n",
    "# Extract unique committer names\n",
    "unique_committer_names = list(df_april['committer'].apply(lambda x: x['name']).unique())\n",
    "\n",
    "unique_repo_names, unique_committer_names"
   ]
  },
  {
   "cell_type": "code",
   "execution_count": null,
   "id": "2e80730b",
   "metadata": {},
   "outputs": [],
   "source": []
  }
 ],
 "metadata": {
  "kernelspec": {
   "display_name": "Python 3 (ipykernel)",
   "language": "python",
   "name": "python3"
  },
  "language_info": {
   "codemirror_mode": {
    "name": "ipython",
    "version": 3
   },
   "file_extension": ".py",
   "mimetype": "text/x-python",
   "name": "python",
   "nbconvert_exporter": "python",
   "pygments_lexer": "ipython3",
   "version": "3.11.0"
  }
 },
 "nbformat": 4,
 "nbformat_minor": 5
}
