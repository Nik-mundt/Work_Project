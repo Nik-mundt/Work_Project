{
 "cells": [
  {
   "cell_type": "code",
   "execution_count": null,
   "id": "47dc562c",
   "metadata": {},
   "outputs": [],
   "source": [
    "!pip install --upgrade google-cloud-bigquery"
   ]
  },
  {
   "cell_type": "markdown",
   "id": "03836016",
   "metadata": {},
   "source": [
    "To get the credential.json do the following:\n",
    "1. Go to Google API -> choose BigQuery API\n",
    "https://console.cloud.google.com/apis/dashboard\n",
    "2. Create a project and activate the API\n",
    "3. Go to login credentials and create a service Account\n",
    "4. Download the credentials as json and save it in the data folder (we don't sync the data folder so its save)\n",
    "5. Change the name of the credentials path to your id (or should we all have the same?)"
   ]
  },
  {
   "cell_type": "code",
   "execution_count": null,
   "id": "06b2b94b",
   "metadata": {},
   "outputs": [],
   "source": [
    "from google.cloud import bigquery\n",
    "from google.oauth2 import service_account\n",
    "\n",
    "# Set up credentials and client\n",
    "credentials_path = 'data/work-thesis-7b6f35ce5dfc.json'\n",
    "credentials = service_account.Credentials.from_service_account_file(credentials_path)\n",
    "client = bigquery.Client(credentials=credentials, project=credentials.project_id)\n",
    "\n",
    "# Example Query\n",
    "query = \"\"\"\n",
    "    SELECT *\n",
    "    FROM `bigquery-public-data.github_repos.sample_commits`\n",
    "\"\"\"\n",
    "\n",
    "# Execute the query\n",
    "query_job = client.query(query)\n",
    "df = query_job.to_dataframe()\n",
    "\n",
    "# Displaying first few rows of the DataFrame\n",
    "print(df.head())"
   ]
  },
  {
   "cell_type": "code",
   "execution_count": null,
   "id": "3aaccee3",
   "metadata": {},
   "outputs": [],
   "source": [
    "df.to_csv(\"data/sample_commits_full.csv\")"
   ]
  },
  {
   "cell_type": "code",
   "execution_count": null,
   "id": "10733d9b",
   "metadata": {},
   "outputs": [],
   "source": [
    "df.committer[0]"
   ]
  },
  {
   "cell_type": "code",
   "execution_count": null,
   "id": "34a4a5bf",
   "metadata": {},
   "outputs": [],
   "source": [
    "df.committer[0][\"date\"].month"
   ]
  },
  {
   "cell_type": "code",
   "execution_count": null,
   "id": "d4c200fe",
   "metadata": {},
   "outputs": [],
   "source": [
    "import datetime\n",
    "# Convert timestamp to datetime object\n",
    "dt_object = datetime.datetime.utcfromtimestamp(df.committer[0][\"date\"][\"seconds\"])\n",
    "\n",
    "# Extract the year\n",
    "year = dt_object.year\n",
    "month = dt_object.month\n",
    "\n",
    "year, month"
   ]
  },
  {
   "cell_type": "code",
   "execution_count": null,
   "id": "e23fc27b",
   "metadata": {},
   "outputs": [],
   "source": [
    "df.columns"
   ]
  },
  {
   "cell_type": "markdown",
   "id": "939eb779",
   "metadata": {},
   "source": [
    "## Big Dataset: Proceed with caution\n",
    "Going on the Big Dataset and trying to get all dara for April 2023\n",
    "-> still no success"
   ]
  },
  {
   "cell_type": "code",
   "execution_count": null,
   "id": "8f5e43ff",
   "metadata": {},
   "outputs": [],
   "source": [
    "#    WHERE \n",
    "#      EXTRACT(YEAR FROM TIMESTAMP_SECONDS(committer.date.seconds)) = 2023 AND \n",
    "#      EXTRACT(MONTH FROM TIMESTAMP_SECONDS(committer.date.seconds)) = 4;\n",
    "query = \"\"\"\n",
    "    SELECT committer, repo_name, subject, message,\n",
    "    FROM `bigquery-public-data.github_repos.commits`\n",
    "    WHERE \n",
    "        EXTRACT(YEAR FROM TIMESTAMP_SECONDS(committer.date.seconds)) = 2023 AND \n",
    "        EXTRACT(MONTH FROM TIMESTAMP_SECONDS(committer.date.seconds)) = 4 AND\n",
    "        EXTRACT(DAY FROM TIMESTAMP_SECONDS(committer.date.seconds)) BETWEEN 1 AND 2 AND\n",
    "        RAND() <= 0.01\n",
    "    LIMIT 5000;\n",
    "\"\"\"\n",
    "\n",
    "# Execute the query\n",
    "query_job = client.query(query)\n",
    "df_april = query_job.to_dataframe()"
   ]
  },
  {
   "cell_type": "code",
   "execution_count": null,
   "id": "9c7b9361",
   "metadata": {},
   "outputs": [],
   "source": [
    "df_april.committer[0]"
   ]
  },
  {
   "cell_type": "code",
   "execution_count": null,
   "id": "532aa6f2",
   "metadata": {},
   "outputs": [],
   "source": [
    "import datetime\n",
    "# Convert timestamp to datetime object\n",
    "dt_object = datetime.datetime.utcfromtimestamp(df_april.committer[0][\"date\"][\"seconds\"])\n",
    "\n",
    "# Extract the year\n",
    "year = dt_object.month\n",
    "year"
   ]
  },
  {
   "cell_type": "code",
   "execution_count": null,
   "id": "e21e203d",
   "metadata": {},
   "outputs": [],
   "source": [
    "import pandas as pd\n",
    "# Extract unique repo names\n",
    "unique_repo_names = list(pd.Series([repo for sublist in df_april['repo_name'] for repo in sublist]).unique())\n",
    "\n",
    "# Extract unique committer names\n",
    "unique_committer_names = list(df_april['committer'].apply(lambda x: x['name']).unique())\n",
    "\n",
    "unique_repo_names, unique_committer_names"
   ]
  },
  {
   "cell_type": "code",
   "execution_count": null,
   "id": "e2d1f20a",
   "metadata": {},
   "outputs": [],
   "source": []
  }
 ],
 "metadata": {
  "kernelspec": {
   "display_name": "Python 3 (ipykernel)",
   "language": "python",
   "name": "python3"
  },
  "language_info": {
   "codemirror_mode": {
    "name": "ipython",
    "version": 3
   },
   "file_extension": ".py",
   "mimetype": "text/x-python",
   "name": "python",
   "nbconvert_exporter": "python",
   "pygments_lexer": "ipython3",
   "version": "3.11.0"
  }
 },
 "nbformat": 4,
 "nbformat_minor": 5
}
